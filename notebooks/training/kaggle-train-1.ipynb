{
 "cells": [
  {
   "cell_type": "code",
   "execution_count": null,
   "metadata": {
    "execution": {
     "iopub.execute_input": "2025-10-18T23:28:50.600813Z",
     "iopub.status.busy": "2025-10-18T23:28:50.600542Z",
     "iopub.status.idle": "2025-10-18T23:28:51.079940Z",
     "shell.execute_reply": "2025-10-18T23:28:51.079215Z",
     "shell.execute_reply.started": "2025-10-18T23:28:50.600792Z"
    },
    "trusted": true
   },
   "outputs": [],
   "source": [
    "from kaggle_secrets import UserSecretsClient\n",
    "user_secrets = UserSecretsClient()\n",
    "github_token= user_secrets.get_secret(\"github_token\")\n",
    "WANDB_KEY = user_secrets.get_secret(\"WANDB_KEY\")"
   ]
  },
  {
   "cell_type": "code",
   "execution_count": null,
   "metadata": {
    "trusted": true
   },
   "outputs": [],
   "source": [
    "import os\n",
    "os.chdir(\"/kaggle/working\")\n",
    "!rm -rf ASR_Conformer"
   ]
  },
  {
   "cell_type": "code",
   "execution_count": null,
   "metadata": {
    "trusted": true
   },
   "outputs": [],
   "source": [
    "!git clone https://{github_token}@github.com/Torfinhell/ASR_Conformer.git"
   ]
  },
  {
   "cell_type": "code",
   "execution_count": null,
   "metadata": {
    "execution": {
     "execution_failed": "2025-10-18T20:41:18.446Z"
    },
    "scrolled": true,
    "trusted": true
   },
   "outputs": [],
   "source": [
    "import os\n",
    "os.chdir(\"/kaggle/working/ASR_Conformer\")\n",
    "# !pip install -r requirements.txt \n",
    "!pip install uv\n",
    "!uv sync"
   ]
  },
  {
   "cell_type": "code",
   "execution_count": null,
   "metadata": {
    "trusted": true
   },
   "outputs": [],
   "source": [
    "!pip install wandb\n",
    "import wandb\n",
    "wandb.login(key=WANDB_KEY)"
   ]
  },
  {
   "cell_type": "code",
   "execution_count": null,
   "metadata": {
    "trusted": true
   },
   "outputs": [],
   "source": [
    "import os\n",
    "!mkdir -p /kaggle/working/ASR_Conformer/data/datasets/librispeech/\n",
    "for _dir in os.listdir(\"/kaggle/working/ASR_Conformer/jsons_for_kaggle\"):\n",
    "    _dir_path = f\"/kaggle/working/ASR_Conformer/jsons_for_kaggle/{_dir}\"\n",
    "    if os.path.isfile(_dir_path):\n",
    "      !ln -s {_dir_path} /kaggle/working/ASR_Conformer/data/datasets/librispeech/{_dir}\n",
    "for _dir in os.listdir(\"/kaggle/input/librispeech\"):\n",
    "    _dir_path = f\"/kaggle/input/librispeech/{_dir}\"\n",
    "    if os.path.isdir(_dir_path):\n",
    "      !ln -s /kaggle/input/librispeech/{_dir}/LibriSpeech/{_dir} /kaggle/working/ASR_Conformer/data/datasets/librispeech/{_dir}\n"
   ]
  },
  {
   "cell_type": "code",
   "execution_count": null,
   "metadata": {
    "execution": {
     "execution_failed": "2025-10-18T20:41:18.446Z"
    },
    "trusted": true
   },
   "outputs": [],
   "source": [
    "!uv run train.py writer.project_name=HW_ASR_FINAL writer.run_name=train_clean_360_1 trainer.override=True -cn=train_clean_360_1"
   ]
  }
 ],
 "metadata": {
  "kaggle": {
   "accelerator": "gpu",
   "dataSources": [
    {
     "datasetId": 1955005,
     "sourceId": 3223470,
     "sourceType": "datasetVersion"
    }
   ],
   "dockerImageVersionId": 31154,
   "isGpuEnabled": true,
   "isInternetEnabled": true,
   "language": "python",
   "sourceType": "notebook"
  },
  "kernelspec": {
   "display_name": "Python 3",
   "language": "python",
   "name": "python3"
  },
  "language_info": {
   "codemirror_mode": {
    "name": "ipython",
    "version": 3
   },
   "file_extension": ".py",
   "mimetype": "text/x-python",
   "name": "python",
   "nbconvert_exporter": "python",
   "pygments_lexer": "ipython3",
   "version": "3.11.13"
  }
 },
 "nbformat": 4,
 "nbformat_minor": 4
}
